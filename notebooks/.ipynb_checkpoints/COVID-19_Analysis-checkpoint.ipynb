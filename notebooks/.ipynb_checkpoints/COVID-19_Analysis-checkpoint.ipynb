{
 "cells": [
  {
   "cell_type": "code",
   "execution_count": null,
   "id": "c18fd805",
   "metadata": {},
   "outputs": [],
   "source": [
    "# Jupyter notebook with markdown cells explaining the analysis\n",
    "\n",
    "# Import libraries\n",
    "import pandas as pd\n",
    "import matplotlib.pyplot as plt\n",
    "import seaborn as sns\n",
    "from pathlib import Path\n",
    "\n",
    "# Load cleaned data\n",
    "df = pd.read_csv('../data/processed/cleaned_covid_data.csv', \n",
    "                 parse_dates=['date'])\n",
    "\n",
    "# Calculate additional metrics\n",
    "df['death_rate'] = df['total_deaths'] / df['total_cases']\n",
    "df['cases_per_million'] = (df['total_cases'] / df['population']) * 1e6\n",
    "\n",
    "# Time series plot\n",
    "plt.figure(figsize=(12, 6))\n",
    "for country in df['location'].unique():\n",
    "    country_data = df[df['location'] == country]\n",
    "    plt.plot(country_data['date'], country_data['total_cases'], label=country)\n",
    "\n",
    "plt.title('Total COVID-19 Cases Over Time')\n",
    "plt.xlabel('Date')\n",
    "plt.ylabel('Total Cases')\n",
    "plt.legend()\n",
    "plt.show()\n",
    "\n",
    "# Vaccination progress\n",
    "plt.figure(figsize=(12, 6))\n",
    "for country in df['location'].unique():\n",
    "    country_data = df[df['location'] == country]\n",
    "    vaccinated_pct = (country_data['people_vaccinated'] / \n",
    "                     country_data['population']) * 100\n",
    "    plt.plot(country_data['date'], vaccinated_pct, label=country)\n",
    "\n",
    "plt.title('COVID-19 Vaccination Progress')\n",
    "plt.xlabel('Date')\n",
    "plt.ylabel('% Population Vaccinated')\n",
    "plt.legend()\n",
    "plt.show()"
   ]
  }
 ],
 "metadata": {
  "kernelspec": {
   "display_name": "Python 3",
   "language": "python",
   "name": "python3"
  },
  "language_info": {
   "name": "python",
   "version": "3.12.9"
  }
 },
 "nbformat": 4,
 "nbformat_minor": 5
}
